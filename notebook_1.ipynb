{
 "cells": [
  {
   "cell_type": "markdown",
   "metadata": {},
   "source": [
    "# Import the data set\n"
   ]
  },
  {
   "cell_type": "code",
   "execution_count": 32,
   "metadata": {},
   "outputs": [
    {
     "name": "stdout",
     "output_type": "stream",
     "text": [
      "/Users/jacobjablonski/Documents/Education/Concordia/Big Data Diploma/CEBD 1260/Homework/Assignment 2/Code/Data Prep\n"
     ]
    }
   ],
   "source": [
    "#import the libraries\n",
    "\n",
    "%matplotlib inline\n",
    "import pandas as pd\n",
    "import numpy as np\n",
    "import matplotlib.pyplot as plt\n",
    "\n",
    "#to find out where my working directory is\n",
    "import os\n",
    "print(os.getcwd())\n",
    "\n",
    "# convert scientific notation to decimals\n",
    "pd.set_option('display.float_format', lambda x: '%.2f' % x)"
   ]
  },
  {
   "cell_type": "code",
   "execution_count": 36,
   "metadata": {
    "scrolled": true
   },
   "outputs": [],
   "source": [
    "#1.1 import data set\n",
    "df = pd.read_csv('indicators.csv')"
   ]
  },
  {
   "cell_type": "markdown",
   "metadata": {},
   "source": [
    "# Summarize for inspection"
   ]
  },
  {
   "cell_type": "code",
   "execution_count": 42,
   "metadata": {},
   "outputs": [
    {
     "name": "stdout",
     "output_type": "stream",
     "text": [
      "Index(['CountryName', 'CountryCode', 'IndicatorName', 'IndicatorCode', 'Year',\n",
      "       'Value'],\n",
      "      dtype='object')\n",
      "  CountryName CountryCode                                      IndicatorName  \\\n",
      "0  Arab World         ARB  Adolescent fertility rate (births per 1,000 wo...   \n",
      "1  Arab World         ARB  Age dependency ratio (% of working-age populat...   \n",
      "2  Arab World         ARB  Age dependency ratio, old (% of working-age po...   \n",
      "3  Arab World         ARB  Age dependency ratio, young (% of working-age ...   \n",
      "4  Arab World         ARB        Arms exports (SIPRI trend indicator values)   \n",
      "\n",
      "    IndicatorCode                          Year      Value  \n",
      "0     SP.ADO.TFRT 1970-01-01 00:00:00.000001960     133.56  \n",
      "1     SP.POP.DPND 1970-01-01 00:00:00.000001960      87.80  \n",
      "2  SP.POP.DPND.OL 1970-01-01 00:00:00.000001960       6.63  \n",
      "3  SP.POP.DPND.YG 1970-01-01 00:00:00.000001960      81.02  \n",
      "4  MS.MIL.XPRT.KD 1970-01-01 00:00:00.000001960 3000000.00  \n",
      "5656458\n"
     ]
    }
   ],
   "source": [
    "#2.1 summarize data for inspection \n",
    "\n",
    "#lets take a look at the head of the set\n",
    "print(df.columns)\n",
    "print(df.head())\n",
    "\n",
    "#How many rows in this data set? - 5656458\n",
    "count_row = df.shape[0]\n",
    "print(count_row)"
   ]
  },
  {
   "cell_type": "code",
   "execution_count": 39,
   "metadata": {},
   "outputs": [],
   "source": [
    "#2.2 no need to fix my column names - they are all easy to code\n",
    "#2.3 All columns are relevent for the moment - no need to delete"
   ]
  },
  {
   "cell_type": "code",
   "execution_count": 41,
   "metadata": {},
   "outputs": [
    {
     "data": {
      "text/plain": [
       "Mexico                       37244\n",
       "Colombia                     37227\n",
       "Philippines                  36912\n",
       "Peru                         36815\n",
       "Costa Rica                   36457\n",
       "Thailand                     36355\n",
       "Morocco                      36275\n",
       "Indonesia                    36252\n",
       "Malaysia                     35874\n",
       "Turkey                       35819\n",
       "Ecuador                      35788\n",
       "Pakistan                     35768\n",
       "India                        35721\n",
       "Brazil                       35550\n",
       "Egypt, Arab Rep.             35367\n",
       "Bolivia                      35307\n",
       "Tunisia                      35302\n",
       "Honduras                     35171\n",
       "Guatemala                    35078\n",
       "El Salvador                  34739\n",
       "Kenya                        34621\n",
       "Algeria                      34578\n",
       "Cameroon                     34259\n",
       "Dominican Republic           34253\n",
       "Jordan                       34050\n",
       "Senegal                      33990\n",
       "Panama                       33984\n",
       "Nicaragua                    33638\n",
       "Bangladesh                   33386\n",
       "Sri Lanka                    33369\n",
       "                             ...  \n",
       "West Bank and Gaza           11735\n",
       "Timor-Leste                   9461\n",
       "Bermuda                       8765\n",
       "New Caledonia                 8352\n",
       "French Polynesia              7979\n",
       "Korea, Dem. Rep.              7934\n",
       "Aruba                         7607\n",
       "Micronesia, Fed. Sts.         7126\n",
       "Kosovo                        6851\n",
       "Palau                         5896\n",
       "Marshall Islands              5764\n",
       "Tuvalu                        5683\n",
       "San Marino                    5020\n",
       "Greenland                     4967\n",
       "Andorra                       4921\n",
       "Faeroe Islands                4691\n",
       "Virgin Islands (U.S.)         4302\n",
       "Liechtenstein                 4282\n",
       "Guam                          4265\n",
       "Cayman Islands                4006\n",
       "Monaco                        3881\n",
       "South Sudan                   3667\n",
       "Turks and Caicos Islands      2840\n",
       "American Samoa                2802\n",
       "Channel Islands               2739\n",
       "Northern Mariana Islands      1942\n",
       "Isle of Man                   1764\n",
       "Curacao                       1564\n",
       "Sint Maarten (Dutch part)      681\n",
       "St. Martin (French part)       572\n",
       "Name: CountryName, Length: 247, dtype: int64"
      ]
     },
     "execution_count": 41,
     "metadata": {},
     "output_type": "execute_result"
    }
   ],
   "source": [
    "#How many unique country names - 247\n",
    "df['CountryName'].value_counts()"
   ]
  },
  {
   "cell_type": "code",
   "execution_count": 43,
   "metadata": {},
   "outputs": [
    {
     "data": {
      "text/plain": [
       "Population, total                                                                                                    13484\n",
       "Population growth (annual %)                                                                                         13442\n",
       "Rural population (% of total population)                                                                             13415\n",
       "Urban population (% of total)                                                                                        13415\n",
       "Rural population                                                                                                     13374\n",
       "Urban population                                                                                                     13374\n",
       "Urban population growth (annual %)                                                                                   13337\n",
       "Surface area (sq. km)                                                                                                13090\n",
       "Land area (sq. km)                                                                                                   13086\n",
       "Rural population growth (annual %)                                                                                   13061\n",
       "Population density (people per sq. km of land area)                                                                  12988\n",
       "Death rate, crude (per 1,000 people)                                                                                 12486\n",
       "Birth rate, crude (per 1,000 people)                                                                                 12485\n",
       "Adolescent fertility rate (births per 1,000 women ages 15-19)                                                        12485\n",
       "Population, female (% of total)                                                                                      12426\n",
       "Population ages 65 and above (% of total)                                                                            12426\n",
       "Population, ages 15-64 (% of total)                                                                                  12426\n",
       "Population, ages 0-14 (% of total)                                                                                   12426\n",
       "Age dependency ratio, old (% of working-age population)                                                              12423\n",
       "Age dependency ratio (% of working-age population)                                                                   12423\n",
       "Age dependency ratio, young (% of working-age population)                                                            12423\n",
       "Life expectancy at birth, male (years)                                                                               12304\n",
       "Life expectancy at birth, female (years)                                                                             12304\n",
       "Life expectancy at birth, total (years)                                                                              12304\n",
       "Fertility rate, total (births per woman)                                                                             12266\n",
       "Survival to age 65, male (% of cohort)                                                                               12258\n",
       "Survival to age 65, female (% of cohort)                                                                             12258\n",
       "Mortality rate, adult, male (per 1,000 male adults)                                                                  11939\n",
       "Mortality rate, adult, female (per 1,000 female adults)                                                              11939\n",
       "Agricultural land (sq. km)                                                                                           11751\n",
       "                                                                                                                     ...  \n",
       "Child employment in agriculture, male (% of male economically active children ages 7-14)                               122\n",
       "Child employment in services, male (% of male economically active children ages 7-14)                                  122\n",
       "Child employment in manufacturing, male (% of male economically active children ages 7-14)                             120\n",
       "Child employment in manufacturing, female (% of female economically active children ages 7-14)                         120\n",
       "Present value of external debt (current US$)                                                                           118\n",
       "Child employment in services (% of economically active children ages 7-14)                                             114\n",
       "Child employment in agriculture (% of economically active children ages 7-14)                                          114\n",
       "Coverage (%) - All Labor Market                                                                                        114\n",
       "Net official flows from UN agencies, UNECE (current US$)                                                               114\n",
       "Child employment in manufacturing (% of economically active children ages 7-14)                                        113\n",
       "Present value of external debt (% of GNI)                                                                              100\n",
       "Point-of-sale terminals (per 100,000 adults)                                                                           100\n",
       "Annualized average growth rate in per capita real survey mean consumption or income, bottom 40% of population (%)       94\n",
       "Annualized average growth rate in per capita real survey mean consumption or income, total population (%)               94\n",
       "Average working hours of children, study and work, ages 7-14 (hours per week)                                           90\n",
       "Average working hours of children, study and work, male, ages 7-14 (hours per week)                                     90\n",
       "Average working hours of children, study and work, female, ages 7-14 (hours per week)                                   90\n",
       "Average working hours of children, working only, ages 7-14 (hours per week)                                             85\n",
       "Presence of peace keepers (number of troops, police, and military observers in mandate)                                 85\n",
       "Average working hours of children, working only, male, ages 7-14 (hours per week)                                       85\n",
       "Disaster risk reduction progress score (1-5 scale; 5=best)                                                              83\n",
       "Average working hours of children, working only, female, ages 7-14 (hours per week)                                     83\n",
       "Children in employment, self-employed, female (% of female children in employment, ages 7-14)                           70\n",
       "Children in employment, self-employed, male (% of male children in employment, ages 7-14)                               70\n",
       "Children in employment, self-employed (% of children in employment, ages 7-14)                                          70\n",
       "Present value of external debt (% of exports of goods, services and primary income)                                     69\n",
       "Benefits incidence in poorest quintile (%) - All Labor Market                                                           67\n",
       "Adequacy of unemployment benefits and ALMP (% of total welfare of beneficiary households)                               67\n",
       "Survey mean consumption or income per capita, total population (2005 PPP $ per day)                                      8\n",
       "Survey mean consumption or income per capita, bottom 40% of population (2005 PPP $ per day)                              8\n",
       "Name: IndicatorName, Length: 1344, dtype: int64"
      ]
     },
     "execution_count": 43,
     "metadata": {},
     "output_type": "execute_result"
    }
   ],
   "source": [
    "#Frequency of unique indicator names? \n",
    "df['IndicatorName'].value_counts()"
   ]
  },
  {
   "cell_type": "code",
   "execution_count": 45,
   "metadata": {},
   "outputs": [],
   "source": [
    "#2.4 converting data types\n",
    "\n",
    "df['Year'] = pd.to_datetime(df['Year'])"
   ]
  },
  {
   "cell_type": "code",
   "execution_count": 46,
   "metadata": {},
   "outputs": [
    {
     "name": "stdout",
     "output_type": "stream",
     "text": [
      "CountryName      0\n",
      "CountryCode      0\n",
      "IndicatorName    0\n",
      "IndicatorCode    0\n",
      "Year             0\n",
      "Value            0\n",
      "dtype: int64\n",
      "\n"
     ]
    }
   ],
   "source": [
    "#2.5 removing duplicates - there are no duplicates\n",
    "\n",
    "print(df.isnull().sum())\n",
    "print('')"
   ]
  },
  {
   "cell_type": "markdown",
   "metadata": {},
   "source": [
    "# Major Tasks"
   ]
  },
  {
   "cell_type": "code",
   "execution_count": 50,
   "metadata": {},
   "outputs": [
    {
     "data": {
      "text/html": [
       "<div>\n",
       "<style scoped>\n",
       "    .dataframe tbody tr th:only-of-type {\n",
       "        vertical-align: middle;\n",
       "    }\n",
       "\n",
       "    .dataframe tbody tr th {\n",
       "        vertical-align: top;\n",
       "    }\n",
       "\n",
       "    .dataframe thead th {\n",
       "        text-align: right;\n",
       "    }\n",
       "</style>\n",
       "<table border=\"1\" class=\"dataframe\">\n",
       "  <thead>\n",
       "    <tr style=\"text-align: right;\">\n",
       "      <th></th>\n",
       "      <th>CountryName</th>\n",
       "      <th>CountryCode</th>\n",
       "      <th>IndicatorName</th>\n",
       "      <th>IndicatorCode</th>\n",
       "      <th>Year</th>\n",
       "      <th>Value</th>\n",
       "    </tr>\n",
       "  </thead>\n",
       "  <tbody>\n",
       "  </tbody>\n",
       "</table>\n",
       "</div>"
      ],
      "text/plain": [
       "Empty DataFrame\n",
       "Columns: [CountryName, CountryCode, IndicatorName, IndicatorCode, Year, Value]\n",
       "Index: []"
      ]
     },
     "execution_count": 50,
     "metadata": {},
     "output_type": "execute_result"
    }
   ],
   "source": [
    "#3.1 select all the rows with missing values\n",
    "df[df.isnull().any(axis=1)]"
   ]
  },
  {
   "cell_type": "code",
   "execution_count": null,
   "metadata": {},
   "outputs": [],
   "source": [
    "#3.2 Removing outliers doesnt make sense at this point since I have not defined a business problem\n",
    "#3.3 No other data set to merge with right now"
   ]
  }
 ],
 "metadata": {
  "kernelspec": {
   "display_name": "Python 3",
   "language": "python",
   "name": "python3"
  },
  "language_info": {
   "codemirror_mode": {
    "name": "ipython",
    "version": 3
   },
   "file_extension": ".py",
   "mimetype": "text/x-python",
   "name": "python",
   "nbconvert_exporter": "python",
   "pygments_lexer": "ipython3",
   "version": "3.7.1"
  }
 },
 "nbformat": 4,
 "nbformat_minor": 2
}
